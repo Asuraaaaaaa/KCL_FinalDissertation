{
 "cells": [
  {
   "cell_type": "code",
   "execution_count": 54,
   "id": "91600d74",
   "metadata": {
    "ExecuteTime": {
     "end_time": "2023-07-25T13:08:45.528468Z",
     "start_time": "2023-07-25T13:08:45.498448Z"
    }
   },
   "outputs": [],
   "source": [
    "    from abc import ABC, abstractmethod\n",
    "    import numpy as np\n",
    "\n",
    "    \"\"\" \n",
    "    Base class for sharing \n",
    "    attributes and functions of FD \n",
    "    \"\"\"\n",
    "    class FiniteDifferences(object):\n",
    "\n",
    "        def __init__(\n",
    "            self, S0, K, r=0.05, T=1, \n",
    "            sigma=0, Smax=1, M=1, N=1, is_put=False\n",
    "        ):\n",
    "            self.S0 = S0\n",
    "            self.K = K\n",
    "            self.r = r\n",
    "            self.T = T\n",
    "            self.sigma = sigma\n",
    "            self.Smax = Smax\n",
    "            self.M, self.N = M, N\n",
    "            self.is_call = not is_put\n",
    "\n",
    "            self.i_values = np.arange(self.M)\n",
    "            self.j_values = np.arange(self.N)\n",
    "            self.grid = np.zeros(shape=(self.M+1, self.N+1))\n",
    "            self.boundary_conds = np.linspace(0, Smax, self.M+1)\n",
    "\n",
    "        @abstractmethod\n",
    "        def setup_boundary_conditions(self):\n",
    "            raise NotImplementedError('Implementation required!')\n",
    "\n",
    "        @abstractmethod\n",
    "        def setup_coefficients(self):\n",
    "            raise NotImplementedError('Implementation required!')\n",
    "\n",
    "        @abstractmethod\n",
    "        def traverse_grid(self):\n",
    "            \"\"\"  Iterate the grid backwards in time\"\"\"\n",
    "            raise NotImplementedError('Implementation required!')\n",
    "\n",
    "        @abstractmethod\n",
    "        def interpolate(self):\n",
    "            \"\"\" Use piecewise linear interpolation on the initial\n",
    "            grid column to get the closest price at S0.\n",
    "            \"\"\"\n",
    "            return np.interp(\n",
    "                self.S0, self.boundary_conds, self.grid[:,0])\n",
    "        @property\n",
    "        def dS(self):\n",
    "            return self.Smax/float(self.M)\n",
    "\n",
    "        @property\n",
    "        def dt(self):\n",
    "            return self.T/float(self.N)\n",
    "        def price(self):\n",
    "            self.setup_boundary_conditions()\n",
    "            self.setup_coefficients()\n",
    "            self.traverse_grid()\n",
    "            return self.interpolate()"
   ]
  },
  {
   "cell_type": "code",
   "execution_count": 55,
   "id": "d003a3d8",
   "metadata": {
    "ExecuteTime": {
     "end_time": "2023-07-25T13:08:46.018450Z",
     "start_time": "2023-07-25T13:08:45.980721Z"
    }
   },
   "outputs": [],
   "source": [
    "import numpy as np\n",
    "\n",
    "\"\"\" \n",
    "Explicit method of Finite Differences \n",
    "\"\"\"\n",
    "class FDExplicitEu(FiniteDifferences):\n",
    "    def setup_boundary_conditions(self):\n",
    "        if self.is_call:\n",
    "            self.grid[:,-1] = np.maximum(\n",
    "                0, self.boundary_conds - self.K)\n",
    "#                 t=T时刻所有的价格 max（S-K,0）\n",
    "            self.grid[-1,:-1] = (self.Smax-self.K) * \\\n",
    "                np.exp(-self.r*self.dt*(self.N-self.j_values))\n",
    "            self.grid[0,:-1]=0\n",
    "#     t<T时Smax的V价格。最底下那一行。\n",
    "        else:\n",
    "            self.grid[:,-1] = np.maximum(\n",
    "                0, self.K-self.boundary_conds)\n",
    "            self.grid[0,:-1] = self.K * \\\n",
    "                np.exp(-self.r*self.dt*(self.N-self.j_values))\n",
    "            self.grid[-1,:-1] =0 \n",
    "# 默认Smax比行权价格大\n",
    "    def setup_coefficients(self):\n",
    "        self.a = 0.5*self.dt*((self.sigma**2) *\n",
    "                              (self.i_values**2) -\n",
    "                              self.r*self.i_values)\n",
    "        self.b = 1 - self.dt*((self.sigma**2) *\n",
    "                              (self.i_values**2) +\n",
    "                              self.r)\n",
    "        self.c = 0.5*self.dt*((self.sigma**2) *\n",
    "                              (self.i_values**2) +\n",
    "                              self.r*self.i_values)\n",
    "    def traverse_grid(self):\n",
    "        for j in reversed(self.j_values):\n",
    "            for i in range(self.M)[2:]:\n",
    "                self.grid[i,j] = \\\n",
    "                    self.a[i]*self.grid[i-1,j+1] +\\\n",
    "                    self.b[i]*self.grid[i,j+1] + \\\n",
    "                    self.c[i]*self.grid[i+1,j+1]"
   ]
  },
  {
   "cell_type": "markdown",
   "id": "5f57b7c6",
   "metadata": {
    "ExecuteTime": {
     "end_time": "2023-07-16T17:31:11.158377Z",
     "start_time": "2023-07-16T17:31:11.152754Z"
    }
   },
   "source": [
    "# European"
   ]
  },
  {
   "cell_type": "code",
   "execution_count": 56,
   "id": "ca7f418d",
   "metadata": {
    "ExecuteTime": {
     "end_time": "2023-07-25T13:08:58.067936Z",
     "start_time": "2023-07-25T13:08:58.046627Z"
    }
   },
   "outputs": [],
   "source": [
    "\n",
    "import numpy as np\n",
    "import scipy.linalg as linalg\n",
    "\n",
    "\"\"\" \n",
    "Crank-Nicolson method of Finite Differences \n",
    "\"\"\"\n",
    "class FDCnEu(FDExplicitEu):\n",
    "    def setup_coefficients(self):\n",
    "        self.alpha = 0.25*self.dt*(\n",
    "            (self.sigma**2)*(self.i_values**2) - \\\n",
    "            self.r*self.i_values)\n",
    "        self.beta = -self.dt*0.5*(\n",
    "            (self.sigma**2)*(self.i_values**2) + self.r)\n",
    "        self.gamma = 0.25*self.dt*(\n",
    "            (self.sigma**2)*(self.i_values**2) +\n",
    "            self.r*self.i_values)\n",
    "        self.M1 = -np.diag(self.alpha[2:self.M], -1) + \\\n",
    "                  np.diag(1-self.beta[1:self.M]) - \\\n",
    "                  np.diag(self.gamma[1:self.M-1], 1)\n",
    "        self.M2 = np.diag(self.alpha[2:self.M], -1) + \\\n",
    "                  np.diag(1+self.beta[1:self.M]) + \\\n",
    "                  np.diag(self.gamma[1:self.M-1], 1)\n",
    "    def traverse_grid(self):\n",
    "        \"\"\" Solve using linear systems of equations \"\"\"\n",
    "        P, L, U = linalg.lu(self.M1)\n",
    "\n",
    "        for j in reversed(range(self.N)):\n",
    "            x1 = linalg.solve(\n",
    "                L, np.dot(self.M2, self.grid[1:self.M, j+1]))\n",
    "            x2 = linalg.solve(U, x1)\n",
    "            self.grid[1:self.M, j] = x2"
   ]
  },
  {
   "cell_type": "code",
   "execution_count": 57,
   "id": "09c582c1",
   "metadata": {
    "ExecuteTime": {
     "end_time": "2023-07-25T13:08:58.961643Z",
     "start_time": "2023-07-25T13:08:58.670971Z"
    }
   },
   "outputs": [
    {
     "name": "stdout",
     "output_type": "stream",
     "text": [
      "4.072238354486828\n"
     ]
    }
   ],
   "source": [
    "option = FDCnEu(50, 50, r=0.1, T=5./12.,\n",
    "        sigma=0.4, Smax=100, M=100, N=1000, is_put=True)\n",
    "print(option.price())"
   ]
  },
  {
   "cell_type": "code",
   "execution_count": 58,
   "id": "355001e2",
   "metadata": {
    "ExecuteTime": {
     "end_time": "2023-07-25T13:09:00.791326Z",
     "start_time": "2023-07-25T13:09:00.744387Z"
    }
   },
   "outputs": [
    {
     "name": "stdout",
     "output_type": "stream",
     "text": [
      "4.070145703042844\n"
     ]
    }
   ],
   "source": [
    "option = FDCnEu(50, 50, r=0.1, T=5./12., \n",
    "        sigma=0.4, Smax=100, M=80, N=100, is_put=True)\n",
    "print(option.price())"
   ]
  },
  {
   "cell_type": "markdown",
   "id": "af284e21",
   "metadata": {},
   "source": [
    "# Barrier"
   ]
  },
  {
   "cell_type": "markdown",
   "id": "af50f489",
   "metadata": {},
   "source": [
    "Down and Out"
   ]
  },
  {
   "cell_type": "code",
   "execution_count": 59,
   "id": "9a023b03",
   "metadata": {
    "ExecuteTime": {
     "end_time": "2023-07-25T13:09:13.886607Z",
     "start_time": "2023-07-25T13:09:13.861949Z"
    }
   },
   "outputs": [],
   "source": [
    "\n",
    "import numpy as np\n",
    "\n",
    "\"\"\"\n",
    "Price a down-and-out option by the Crank-Nicolson\n",
    "method of finite differences.\n",
    "\"\"\"\n",
    "class FDCnDo(FDCnEu):\n",
    "\n",
    "    def __init__(\n",
    "        self, S0, K, r=0.05, T=1, sigma=0, \n",
    "        Sbarrier=0, Smax=1, M=1, N=1, is_put=False\n",
    "    ):\n",
    "        super(FDCnDo, self).__init__(\n",
    "            S0, K, r=r, T=T, sigma=sigma,\n",
    "            Smax=Smax, M=M, N=N, is_put=is_put\n",
    "        )\n",
    "        self.barrier = Sbarrier\n",
    "        self.boundary_conds = np.linspace(Sbarrier, Smax, M+1)\n",
    "        self.i_values = self.boundary_conds/self.dS\n",
    "        \n",
    "    def setup_boundary_conditions(self):\n",
    "        if self.is_call:\n",
    "            self.grid[:,-1] = np.maximum(\n",
    "                0, self.boundary_conds - self.K)\n",
    "#                 t=T时刻所有的价格 max（S-K,0）\n",
    "            self.grid[-1,:-1] = (self.Smax-self.K) * \\\n",
    "                np.exp(-self.r*self.dt*(self.N-self.j_values))\n",
    "            self.grid[0,:-1]=np.maximum((self.barrier-self.K) * np.exp(-self.r*self.dt*(self.N-self.j_values)),0)\n",
    "#     t<T时Smax的V价格。最底下那一行。\n",
    "        else:\n",
    "            self.grid[:,-1] = np.maximum(\n",
    "                0, self.K-self.boundary_conds)\n",
    "            self.grid[0,:-1] = self.K * \\\n",
    "                np.exp(-self.r*self.dt*(self.N-self.j_values))\n",
    "            self.grid[-1,:-1] =0 \n",
    "    @property\n",
    "    def dS(self):\n",
    "        return (self.Smax-self.barrier)/float(self.M)"
   ]
  },
  {
   "cell_type": "code",
   "execution_count": 60,
   "id": "78408f02",
   "metadata": {
    "ExecuteTime": {
     "end_time": "2023-07-25T13:09:16.015758Z",
     "start_time": "2023-07-25T13:09:15.913379Z"
    }
   },
   "outputs": [
    {
     "name": "stdout",
     "output_type": "stream",
     "text": [
      "12.943798519671073\n"
     ]
    }
   ],
   "source": [
    "    option = FDCnDo(50, 40, r=0.04, T=1, \n",
    "        sigma=0.3, Sbarrier=20, Smax=225, M=100, N=200)\n",
    "    print(option.price())"
   ]
  },
  {
   "cell_type": "code",
   "execution_count": 61,
   "id": "6aea7658",
   "metadata": {
    "ExecuteTime": {
     "end_time": "2023-07-25T13:09:17.069917Z",
     "start_time": "2023-07-25T13:09:16.875488Z"
    }
   },
   "outputs": [
    {
     "name": "stdout",
     "output_type": "stream",
     "text": [
      "10.355821895846653\n"
     ]
    }
   ],
   "source": [
    "    option = FDCnDo(150, 150, r=0.05, T=0.5, sigma=0.25, \n",
    "        Sbarrier=125, Smax=225, M=120, N=500)\n",
    "    print(option.price())"
   ]
  },
  {
   "cell_type": "code",
   "execution_count": 62,
   "id": "aae1f1d8",
   "metadata": {
    "ExecuteTime": {
     "end_time": "2023-07-25T13:09:17.871844Z",
     "start_time": "2023-07-25T13:09:17.685461Z"
    }
   },
   "outputs": [
    {
     "name": "stdout",
     "output_type": "stream",
     "text": [
      "5.49156055293479\n"
     ]
    }
   ],
   "source": [
    "option = FDCnDo(50, 50, r=0.1, T=5./12., \n",
    "        sigma=0.4, Sbarrier=40, Smax=100, M=120, N=500)\n",
    "print(option.price())"
   ]
  },
  {
   "cell_type": "code",
   "execution_count": 63,
   "id": "a8694a15",
   "metadata": {
    "ExecuteTime": {
     "end_time": "2023-07-25T13:09:31.054383Z",
     "start_time": "2023-07-25T13:09:31.036005Z"
    }
   },
   "outputs": [],
   "source": [
    "\n",
    "import numpy as np\n",
    "\n",
    "\"\"\"\n",
    "Price a down-and-out option by the Crank-Nicolson\n",
    "method of finite differences.\n",
    "\"\"\"\n",
    "class FDCnUo(FDCnEu):\n",
    "\n",
    "    def __init__(\n",
    "        self, S0, K, r=0.05, T=1, sigma=0, \n",
    "        Sbarrier=0, Smax=1, M=1, N=1, is_put=False\n",
    "    ):\n",
    "        super(FDCnUo, self).__init__(\n",
    "            S0, K, r=r, T=T, sigma=sigma,\n",
    "            Smax=Smax, M=M, N=N, is_put=is_put\n",
    "        )\n",
    "        self.barrier = Sbarrier\n",
    "        self.boundary_conds = np.linspace(0, Sbarrier,  M+1)\n",
    "        self.i_values = self.boundary_conds/self.dS\n",
    "        \n",
    "    def setup_boundary_conditions(self):\n",
    "        if self.is_call:\n",
    "            self.grid[:,-1] = np.maximum(\n",
    "                0, self.boundary_conds - self.K)\n",
    "#                 t=T时刻所有的价格 max（S-K,0）\n",
    "            self.grid[-1,:-1] = (self.barrier-self.K) * \\\n",
    "                np.exp(-self.r*self.dt*(self.N-self.j_values))\n",
    "            self.grid[0,:-1]=0\n",
    "        else:\n",
    "            self.grid[:,-1] = np.maximum(\n",
    "                0, self.K-self.boundary_conds)\n",
    "            self.grid[0,:-1] = self.K * \\\n",
    "                np.exp(-self.r*self.dt*(self.N-self.j_values))\n",
    "            self.grid[-1,:-1] =0 \n",
    "    @property\n",
    "    def dS(self):\n",
    "        return (self.barrier)/float(self.M)"
   ]
  },
  {
   "cell_type": "code",
   "execution_count": 64,
   "id": "1d722610",
   "metadata": {
    "ExecuteTime": {
     "end_time": "2023-07-25T13:09:31.714809Z",
     "start_time": "2023-07-25T13:09:31.652427Z"
    }
   },
   "outputs": [
    {
     "name": "stdout",
     "output_type": "stream",
     "text": [
      "0.8313243779199595\n"
     ]
    }
   ],
   "source": [
    "option = FDCnUo(50, 60, r=0.02, T=0.5, \n",
    "        sigma=0.45, Sbarrier=80, Smax=70, M=100, N=100)\n",
    "print(option.price())"
   ]
  },
  {
   "cell_type": "code",
   "execution_count": null,
   "id": "dfe4311e",
   "metadata": {},
   "outputs": [],
   "source": []
  },
  {
   "cell_type": "code",
   "execution_count": null,
   "id": "35f52c7d",
   "metadata": {},
   "outputs": [],
   "source": []
  }
 ],
 "metadata": {
  "kernelspec": {
   "display_name": "Python 3 (ipykernel)",
   "language": "python",
   "name": "python3"
  },
  "language_info": {
   "codemirror_mode": {
    "name": "ipython",
    "version": 3
   },
   "file_extension": ".py",
   "mimetype": "text/x-python",
   "name": "python",
   "nbconvert_exporter": "python",
   "pygments_lexer": "ipython3",
   "version": "3.9.12"
  },
  "toc": {
   "base_numbering": 1,
   "nav_menu": {},
   "number_sections": true,
   "sideBar": true,
   "skip_h1_title": false,
   "title_cell": "Table of Contents",
   "title_sidebar": "Contents",
   "toc_cell": false,
   "toc_position": {},
   "toc_section_display": true,
   "toc_window_display": false
  },
  "varInspector": {
   "cols": {
    "lenName": 16,
    "lenType": 16,
    "lenVar": 40
   },
   "kernels_config": {
    "python": {
     "delete_cmd_postfix": "",
     "delete_cmd_prefix": "del ",
     "library": "var_list.py",
     "varRefreshCmd": "print(var_dic_list())"
    },
    "r": {
     "delete_cmd_postfix": ") ",
     "delete_cmd_prefix": "rm(",
     "library": "var_list.r",
     "varRefreshCmd": "cat(var_dic_list()) "
    }
   },
   "types_to_exclude": [
    "module",
    "function",
    "builtin_function_or_method",
    "instance",
    "_Feature"
   ],
   "window_display": false
  }
 },
 "nbformat": 4,
 "nbformat_minor": 5
}
