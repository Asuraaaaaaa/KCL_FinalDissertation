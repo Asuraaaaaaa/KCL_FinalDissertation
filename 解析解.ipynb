{
 "cells": [
  {
   "cell_type": "markdown",
   "id": "e3dae280",
   "metadata": {},
   "source": [
    "# Barrier Option"
   ]
  },
  {
   "cell_type": "markdown",
   "id": "bf078030",
   "metadata": {},
   "source": [
    "## Down and Out Option"
   ]
  },
  {
   "cell_type": "code",
   "execution_count": 7,
   "id": "34bffad2",
   "metadata": {
    "ExecuteTime": {
     "end_time": "2023-07-25T14:13:53.656975Z",
     "start_time": "2023-07-25T14:13:53.629450Z"
    }
   },
   "outputs": [],
   "source": [
    "import math\n",
    "from scipy.stats import norm\n",
    "\n",
    "def calculate_CDO(S, X, H, T, r, b, sigma, K ):\n",
    "    tau = T  # Time to expiration (in years) - Assuming T is in years\n",
    "    mu = (b - 0.5 * sigma ** 2) / sigma ** 2\n",
    "    x1 = (math.log(S / X) / (sigma * math.sqrt(tau))) + (1 + mu) * sigma * math.sqrt(T)\n",
    "    x2 = (math.log(S / H) / (sigma * math.sqrt(tau))) + (1 + mu) * sigma * math.sqrt(T)\n",
    "    y1 = (math.log(H ** 2 / (S * X)) / (sigma * math.sqrt(tau))) + (1 + mu) * sigma * math.sqrt(T)\n",
    "    y2 = (math.log(H / S) / (sigma * math.sqrt(tau))) + (1 + mu) * sigma * math.sqrt(T)\n",
    "    lamda = math.sqrt(mu ** 2 + 2 * r / sigma ** 2)\n",
    "    z = (math.log(H / S) / (sigma * math.sqrt(tau))) + lamda * sigma * math.sqrt(T)\n",
    "    Phi = 1\n",
    "    eta = 1\n",
    "    # Calculate the value of N(x) for standard normal distribution\n",
    "    def calculate_N(x):\n",
    "        return norm.cdf(x) \n",
    "    A = Phi * S * math.exp((b - r) * T) * calculate_N(Phi * x1) - Phi * X * math.exp(-r * T) * calculate_N(Phi * x1 - Phi * sigma * math.sqrt(T))\n",
    "    B = Phi * S * math.exp((b - r) * T) * calculate_N(Phi * x2) - Phi * X * math.exp(-r * T) * calculate_N(Phi * x2 - Phi * sigma * math.sqrt(T))\n",
    "    C = Phi * S * math.exp((b - r) * T) * (H / S) ** (2 * (mu + 1)) * calculate_N(eta * y1) - Phi * X * math.exp(-r * T) * (H / S) ** (2 * mu) * calculate_N(eta * y1 - eta * sigma * math.sqrt(T))\n",
    "    D = Phi * S * math.exp((b - r) * T) * (H / S) ** (2 * (mu + 1)) * calculate_N(eta * y2) - Phi * X * math.exp(-r * T) * (H / S) ** (2 * mu) * calculate_N(eta * y2 - eta * sigma * math.sqrt(T))\n",
    "    E = K * math.exp(-r * T) * (calculate_N(eta * x2 - eta * sigma * math.sqrt(T)) - (H / S) ** (2 * mu) * calculate_N(eta * y2 - eta * sigma * math.sqrt(T)))\n",
    "    F = K * ((H / S) ** (lamda + mu) * calculate_N(eta * z) - (H / S) ** (mu - lamda) * calculate_N(eta * z - 2 * eta * lamda * sigma * math.sqrt(T)))\n",
    "       \n",
    "    if X > H:\n",
    "        CDO = A - C + F\n",
    "    else:\n",
    "        CDO = B - D + F\n",
    "    \n",
    "    return CDO"
   ]
  },
  {
   "cell_type": "code",
   "execution_count": 41,
   "id": "9b5643ce",
   "metadata": {
    "ExecuteTime": {
     "end_time": "2023-07-26T14:15:24.764135Z",
     "start_time": "2023-07-26T14:15:24.732576Z"
    },
    "code_folding": []
   },
   "outputs": [
    {
     "name": "stdout",
     "output_type": "stream",
     "text": [
      "6.590669197630012\n",
      "10.753259639577673\n",
      "13.58259975188058\n",
      "15.66368726432791\n"
     ]
    }
   ],
   "source": [
    "# Example usage:\n",
    "S = 100  # Current stock price\n",
    "X = 110   # Strike price\n",
    "H = 75  # Barrier price\n",
    "T = 0.5    # Time to expiration in years\n",
    "r = 0.05 # Risk-free interest rate\n",
    "b = r # Cost of carry rate\n",
    "sigma = 0.5 # Volatility\n",
    "option_type = 'call'  # 'call' for call option, 'put' for put option\n",
    "K = 0   # Option price\n",
    "s=[0.2,0.3,0.4,0.5]\n",
    "t=[0.25,0.5,0.75,1]\n",
    "for i in range(4):    \n",
    "    cdo_value = calculate_CDO(S, X, H, t[i], r, b, sigma, K)\n",
    "    print( cdo_value)\n"
   ]
  },
  {
   "cell_type": "code",
   "execution_count": 19,
   "id": "28cea372",
   "metadata": {
    "ExecuteTime": {
     "end_time": "2023-07-25T14:21:58.214286Z",
     "start_time": "2023-07-25T14:21:58.190148Z"
    }
   },
   "outputs": [],
   "source": [
    "import math\n",
    "from scipy.stats import norm\n",
    "\n",
    "def calculate_CDI(S, X, H, T, r, b, sigma, K ):\n",
    "    tau = T  # Time to expiration (in years) - Assuming T is in years\n",
    "    mu = (b - 0.5 * sigma ** 2) / sigma ** 2\n",
    "    x1 = (math.log(S / X) / (sigma * math.sqrt(tau))) + (1 + mu) * sigma * math.sqrt(T)\n",
    "    x2 = (math.log(S / H) / (sigma * math.sqrt(tau))) + (1 + mu) * sigma * math.sqrt(T)\n",
    "    y1 = (math.log(H ** 2 / (S * X)) / (sigma * math.sqrt(tau))) + (1 + mu) * sigma * math.sqrt(T)\n",
    "    y2 = (math.log(H / S) / (sigma * math.sqrt(tau))) + (1 + mu) * sigma * math.sqrt(T)\n",
    "    lamda = math.sqrt(mu ** 2 + 2 * r / sigma ** 2)\n",
    "    z = (math.log(H / S) / (sigma * math.sqrt(tau))) + lamda * sigma * math.sqrt(T)\n",
    "    Phi = 1\n",
    "    eta = 1\n",
    "    # Calculate the value of N(x) for standard normal distribution\n",
    "    def calculate_N(x):\n",
    "        return norm.cdf(x) \n",
    "    A = Phi * S * math.exp((b - r) * T) * calculate_N(Phi * x1) - Phi * X * math.exp(-r * T) * calculate_N(Phi * x1 - Phi * sigma * math.sqrt(T))\n",
    "    B = Phi * S * math.exp((b - r) * T) * calculate_N(Phi * x2) - Phi * X * math.exp(-r * T) * calculate_N(Phi * x2 - Phi * sigma * math.sqrt(T))\n",
    "    C = Phi * S * math.exp((b - r) * T) * (H / S) ** (2 * (mu + 1)) * calculate_N(eta * y1) - Phi * X * math.exp(-r * T) * (H / S) ** (2 * mu) * calculate_N(eta * y1 - eta * sigma * math.sqrt(T))\n",
    "    D = Phi * S * math.exp((b - r) * T) * (H / S) ** (2 * (mu + 1)) * calculate_N(eta * y2) - Phi * X * math.exp(-r * T) * (H / S) ** (2 * mu) * calculate_N(eta * y2 - eta * sigma * math.sqrt(T))\n",
    "    E = K * math.exp(-r * T) * (calculate_N(eta * x2 - eta * sigma * math.sqrt(T)) - (H / S) ** (2 * mu) * calculate_N(eta * y2 - eta * sigma * math.sqrt(T)))\n",
    "    F = K * ((H / S) ** (lamda + mu) * calculate_N(eta * z) - (H / S) ** (mu - lamda) * calculate_N(eta * z - 2 * eta * lamda * sigma * math.sqrt(T)))\n",
    "       \n",
    "    if X > H:\n",
    "        CDI = C+E\n",
    "    else:\n",
    "        CDI = A-B + D + E\n",
    "    \n",
    "    return CDI"
   ]
  },
  {
   "cell_type": "code",
   "execution_count": 20,
   "id": "8401b1d7",
   "metadata": {
    "ExecuteTime": {
     "end_time": "2023-07-25T14:22:22.806357Z",
     "start_time": "2023-07-25T14:22:22.776628Z"
    }
   },
   "outputs": [
    {
     "name": "stdout",
     "output_type": "stream",
     "text": [
      "CDI Value: 0.4308582314038518\n"
     ]
    }
   ],
   "source": [
    "# Example usage:\n",
    "S = 100  # Current stock price\n",
    "X = 110   # Strike price\n",
    "H = 75  # Barrier price\n",
    "T = 0.5    # Time to expiration in years\n",
    "r = 0.05 # Risk-free interest rate\n",
    "b = r # Cost of carry rate\n",
    "sigma = 0.5 # Volatility\n",
    "option_type = 'call'  # 'call' for call option, 'put' for put option\n",
    "K = 0   # Option price\n",
    "\n",
    "cdi_value = calculate_CDI(S, X, H, T, r, b, sigma, K)\n",
    "print(\"CDI Value:\", cdi_value)\n"
   ]
  },
  {
   "cell_type": "markdown",
   "id": "36944998",
   "metadata": {},
   "source": [
    "## Up and Out Option"
   ]
  },
  {
   "cell_type": "code",
   "execution_count": 90,
   "id": "d627808f",
   "metadata": {
    "ExecuteTime": {
     "end_time": "2023-07-21T17:56:35.356475Z",
     "start_time": "2023-07-21T17:56:35.332350Z"
    }
   },
   "outputs": [],
   "source": [
    "import math\n",
    "from scipy.stats import norm\n",
    "\n",
    "def calculate_CUO(S, X, H, T, r, b, sigma, K ):\n",
    "    tau = T  # Time to expiration (in years) - Assuming T is in years\n",
    "    mu = (b - 0.5 * sigma ** 2) / sigma ** 2\n",
    "    x1 = (math.log(S / X) / (sigma * math.sqrt(tau))) + (1 + mu) * sigma * math.sqrt(T)\n",
    "    x2 = (math.log(S / H) / (sigma * math.sqrt(tau))) + (1 + mu) * sigma * math.sqrt(T)\n",
    "    y1 = (math.log(H ** 2 / (S * X)) / (sigma * math.sqrt(tau))) + (1 + mu) * sigma * math.sqrt(T)\n",
    "    y2 = (math.log(H / S) / (sigma * math.sqrt(tau))) + (1 + mu) * sigma * math.sqrt(T)\n",
    "    lamda = math.sqrt(mu ** 2 + 2 * r / sigma ** 2)\n",
    "    z = (math.log(H / S) / (sigma * math.sqrt(tau))) + lamda * sigma * math.sqrt(T)\n",
    "    Phi = 1\n",
    "    eta = -1\n",
    "    # Calculate the value of N(x) for standard normal distribution\n",
    "    def calculate_N(x):\n",
    "        return norm.cdf(x) \n",
    "    A = Phi * S * math.exp((b - r) * T) * calculate_N(Phi * x1) - Phi * X * math.exp(-r * T) * calculate_N(Phi * x1 - Phi * sigma * math.sqrt(T))\n",
    "    B = Phi * S * math.exp((b - r) * T) * calculate_N(Phi * x2) - Phi * X * math.exp(-r * T) * calculate_N(Phi * x2 - Phi * sigma * math.sqrt(T))\n",
    "    C = Phi * S * math.exp((b - r) * T) * (H / S) ** (2 * (mu + 1)) * calculate_N(eta * y1) - Phi * X * math.exp(-r * T) * (H / S) ** (2 * mu) * calculate_N(eta * y1 - eta * sigma * math.sqrt(T))\n",
    "    D = Phi * S * math.exp((b - r) * T) * (H / S) ** (2 * (mu + 1)) * calculate_N(eta * y2) - Phi * X * math.exp(-r * T) * (H / S) ** (2 * mu) * calculate_N(eta * y2 - eta * sigma * math.sqrt(T))\n",
    "    E = K * math.exp(-r * T) * (calculate_N(eta * x2 - eta * sigma * math.sqrt(T)) - (H / S) ** (2 * mu) * calculate_N(eta * y2 - eta * sigma * math.sqrt(T)))\n",
    "    F = K * ((H / S) ** (lamda + mu) * calculate_N(eta * z) - (H / S) ** (mu - lamda) * calculate_N(eta * z - 2 * eta * lamda * sigma * math.sqrt(T)))\n",
    "       \n",
    "    if X > H:\n",
    "        CUO = F\n",
    "    else:\n",
    "        CUO = A-B+C - D + F\n",
    "    \n",
    "    return CUO"
   ]
  },
  {
   "cell_type": "code",
   "execution_count": 92,
   "id": "2bb559a5",
   "metadata": {
    "ExecuteTime": {
     "end_time": "2023-07-21T17:58:42.920837Z",
     "start_time": "2023-07-21T17:58:42.898688Z"
    }
   },
   "outputs": [
    {
     "name": "stdout",
     "output_type": "stream",
     "text": [
      "CDO Value: 0.8657072904472733\n"
     ]
    }
   ],
   "source": [
    "# Example usage:\n",
    "S = 50  # Current stock price\n",
    "X = 60   # Strike price\n",
    "H = 80  # Barrier price\n",
    "T = 0.5    # Time to expiration in years\n",
    "r = 0.05 # Risk-free interest rate\n",
    "b = r # Cost of carry rate\n",
    "sigma = 0.45 # Volatility\n",
    "option_type = 'call'  # 'call' for call option, 'put' for put option\n",
    "K = 0   # Option price\n",
    "\n",
    "cuo_value = calculate_CUO(S, X, H, T, r, b, sigma, K)\n",
    "print(\"CDO Value:\", cuo_value)\n"
   ]
  },
  {
   "cell_type": "markdown",
   "id": "6aba29f6",
   "metadata": {
    "heading_collapsed": true
   },
   "source": [
    "# Look Back Option"
   ]
  },
  {
   "cell_type": "markdown",
   "id": "fc8f6c03",
   "metadata": {
    "hidden": true
   },
   "source": [
    "## Fixed Look Back Option"
   ]
  },
  {
   "cell_type": "code",
   "execution_count": 12,
   "id": "f47ccc56",
   "metadata": {
    "ExecuteTime": {
     "end_time": "2023-08-11T13:31:21.012156Z",
     "start_time": "2023-08-11T13:31:20.986962Z"
    },
    "code_folding": [],
    "hidden": true
   },
   "outputs": [],
   "source": [
    "import math\n",
    "from scipy.stats import norm\n",
    "\n",
    "def fixed_strike_lookback_option(S, K, r, sigma, T, S_max):\n",
    "    d1 = (math.log(S/K) + (r + (sigma**2)/2)*T) / (sigma * math.sqrt(T))\n",
    "    d2 = d1 - sigma * math.sqrt(T)\n",
    "    d3 = d1 - (2 * r * math.sqrt(T)) / sigma\n",
    "    e1 = (math.log(S/S_max) + (r + (sigma**2)/2)*T) / (sigma * math.sqrt(T))\n",
    "    e2 = e1 - sigma * math.sqrt(T)\n",
    "    e3 = e1 - (2 * r * math.sqrt(T)) / sigma\n",
    "    if S_max < K:\n",
    "        term1 = S * norm.cdf(d1) - math.exp(-r * T) * K * norm.cdf(d2)\n",
    "        term2 = math.exp(-r * T) * (sigma**2 / (2 * r)) * S * (math.exp(r * T) * norm.cdf(d1) - ((S / K)**(-2 * r / (sigma**2))) * norm.cdf(d3))\n",
    "        option_price = term1 + term2\n",
    "    else:\n",
    "        term1 = math.exp(-r * T) * (S_max * (1 - norm.cdf(e2)) - K)\n",
    "        term2 = math.exp(-r * T) * S * (sigma**2 / (2 * r)) * (math.exp(r * T) * norm.cdf(e1) - ((S / S_max)**(-2 * r / (sigma**2))) * norm.cdf(e3))\n",
    "        option_price = term1 + term2\n",
    "\n",
    "    return option_price\n",
    "def fixed_strike_lookback_option_put(S, K, r, sigma, T, S_min):\n",
    "    d1 = (math.log(S/K) + (r + (sigma**2)/2)*T) / (sigma * math.sqrt(T))\n",
    "    d2 = d1 - sigma * math.sqrt(T)\n",
    "    d3 = d1 - (2 * r * math.sqrt(T)) / sigma\n",
    "    f1= (math.log(S/S_min) + (r + (sigma**2)/2)*T) / (sigma * math.sqrt(T))\n",
    "    f2 = f1 - sigma * math.sqrt(T)\n",
    "    f3 = f1 - (2 * r * math.sqrt(T)) / sigma\n",
    "\n",
    "    if K > S_min:\n",
    "        term1 = K * math.exp(-r * T) * norm.cdf(-d2) - S * norm.cdf(-d1)\n",
    "        term2 = math.exp(-r * T) * (sigma**2 / (2 * r)) * S * (-math.exp(r * T) * norm.cdf(-d1) + ((S / K)**(-2 * r / (sigma**2))) * norm.cdf(-d3))\n",
    "        option_price = term1 + term2\n",
    "    else:\n",
    "        term1 = math.exp(-r * T) * (S_min * (norm.cdf(-f2) - 1) + K) - S * norm.cdf(-f1)\n",
    "        term2 = math.exp(-r * T) * S * (sigma**2 / (2 * r)) * (-math.exp(r * T) * norm.cdf(-f1) + ((S / S_min)**(-2 * r / (sigma**2))) * norm.cdf(-f3))\n",
    "        option_price = term1 + term2\n",
    "\n",
    "    return option_price"
   ]
  },
  {
   "cell_type": "code",
   "execution_count": 13,
   "id": "d09df881",
   "metadata": {
    "ExecuteTime": {
     "end_time": "2023-08-11T13:31:23.267720Z",
     "start_time": "2023-08-11T13:31:23.258669Z"
    },
    "hidden": true
   },
   "outputs": [
    {
     "data": {
      "text/plain": [
       "-31.76901378540727"
      ]
     },
     "execution_count": 13,
     "metadata": {},
     "output_type": "execute_result"
    }
   ],
   "source": [
    "fixed_strike_lookback_option(100,110,0.35,0.5,0.75,110)\n",
    "# fixed_strike_lookback_option_put(100,100,0.2,0.4,0.25,100)\n",
    "# fixed_strike_lookback_option_put(100,110,0.3,0.5,1,110) "
   ]
  },
  {
   "cell_type": "markdown",
   "id": "ba8279f7",
   "metadata": {
    "hidden": true
   },
   "source": [
    "## Floating Look Back Option"
   ]
  },
  {
   "cell_type": "code",
   "execution_count": 7,
   "id": "5bbc85fe",
   "metadata": {
    "ExecuteTime": {
     "end_time": "2023-07-21T00:57:02.004093Z",
     "start_time": "2023-07-21T00:57:01.985759Z"
    },
    "hidden": true
   },
   "outputs": [],
   "source": [
    "import math\n",
    "\n",
    "def calculate_floating_call_option_price(S, S_min, r, sigma, tau):\n",
    "    d1 = (math.log(S / S_min) + (r + 0.5 * sigma**2) * tau) / (sigma * math.sqrt(tau))\n",
    "    d2 = d1 - sigma * math.sqrt(tau)\n",
    "    d3 = d1 - (2 * r / sigma) * math.sqrt(tau)\n",
    "\n",
    "    N = lambda x: 0.5 * (1 + math.erf(x / math.sqrt(2)))\n",
    "\n",
    "    option_price = S * N(d1) - S_min * math.exp(-r * tau) * N(d2) + math.exp(-r * tau) * (sigma**2 / (2 * r)) * S * ((S / S_min)**(-2 * r / sigma**2) * N(-d3) - math.exp(r * tau) * N(-d1))\n",
    "    return option_price\n",
    "def calculate_floating_put_option_price(S, S_max, r, sigma, tau):\n",
    "    d1 = (math.log(S/S_max) + (r + (sigma**2)/2)*tau) / (sigma*math.sqrt(tau))\n",
    "    d2 = d1 - sigma*math.sqrt(tau)\n",
    "    d3 = d1 - (2*r/(sigma))*math.sqrt(tau)\n",
    "\n",
    "    term1 = -S * norm.cdf(-d1)\n",
    "    term2 = S_max * math.exp(-r*tau) * norm.cdf(-d2)\n",
    "    term3 = math.exp(-r*tau) * (sigma**2) / (2*r) * S * (-((S/S_max)**(-2*r/(sigma**2))) * norm.cdf(d3) + math.exp(r*tau) * norm.cdf(d1))\n",
    "\n",
    "    P_Floating = term1 + term2 + term3\n",
    "    return P_Floating\n"
   ]
  },
  {
   "cell_type": "code",
   "execution_count": 9,
   "id": "b45d9d8b",
   "metadata": {
    "ExecuteTime": {
     "end_time": "2023-07-21T00:57:15.563600Z",
     "start_time": "2023-07-21T00:57:15.552263Z"
    },
    "hidden": true
   },
   "outputs": [
    {
     "data": {
      "text/plain": [
       "17.216802237360866"
      ]
     },
     "execution_count": 9,
     "metadata": {},
     "output_type": "execute_result"
    }
   ],
   "source": [
    "calculate_floating_call_option_price(100,100,0.2,0.4,0.25)"
   ]
  },
  {
   "cell_type": "code",
   "execution_count": 10,
   "id": "5586df9b",
   "metadata": {
    "ExecuteTime": {
     "end_time": "2023-07-21T00:57:35.683904Z",
     "start_time": "2023-07-21T00:57:35.671287Z"
    },
    "hidden": true
   },
   "outputs": [
    {
     "data": {
      "text/plain": [
       "14.290567707403712"
      ]
     },
     "execution_count": 10,
     "metadata": {},
     "output_type": "execute_result"
    }
   ],
   "source": [
    "calculate_floating_put_option_price(100,100,0.2,0.4,0.25)"
   ]
  },
  {
   "cell_type": "code",
   "execution_count": null,
   "id": "a1fc8dd9",
   "metadata": {
    "hidden": true
   },
   "outputs": [],
   "source": []
  }
 ],
 "metadata": {
  "kernelspec": {
   "display_name": "Python 3 (ipykernel)",
   "language": "python",
   "name": "python3"
  },
  "language_info": {
   "codemirror_mode": {
    "name": "ipython",
    "version": 3
   },
   "file_extension": ".py",
   "mimetype": "text/x-python",
   "name": "python",
   "nbconvert_exporter": "python",
   "pygments_lexer": "ipython3",
   "version": "3.9.12"
  },
  "toc": {
   "base_numbering": 1,
   "nav_menu": {},
   "number_sections": true,
   "sideBar": true,
   "skip_h1_title": false,
   "title_cell": "Table of Contents",
   "title_sidebar": "Contents",
   "toc_cell": false,
   "toc_position": {},
   "toc_section_display": true,
   "toc_window_display": false
  },
  "varInspector": {
   "cols": {
    "lenName": 16,
    "lenType": 16,
    "lenVar": 40
   },
   "kernels_config": {
    "python": {
     "delete_cmd_postfix": "",
     "delete_cmd_prefix": "del ",
     "library": "var_list.py",
     "varRefreshCmd": "print(var_dic_list())"
    },
    "r": {
     "delete_cmd_postfix": ") ",
     "delete_cmd_prefix": "rm(",
     "library": "var_list.r",
     "varRefreshCmd": "cat(var_dic_list()) "
    }
   },
   "types_to_exclude": [
    "module",
    "function",
    "builtin_function_or_method",
    "instance",
    "_Feature"
   ],
   "window_display": false
  }
 },
 "nbformat": 4,
 "nbformat_minor": 5
}
