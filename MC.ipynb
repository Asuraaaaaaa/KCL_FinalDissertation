{
 "cells": [
  {
   "cell_type": "markdown",
   "id": "d7218990",
   "metadata": {},
   "source": [
    "# Barrier Option"
   ]
  },
  {
   "cell_type": "markdown",
   "id": "49bebcb0",
   "metadata": {},
   "source": [
    "## Down and Out Option "
   ]
  },
  {
   "cell_type": "code",
   "execution_count": 128,
   "id": "eb00234c",
   "metadata": {
    "ExecuteTime": {
     "end_time": "2023-07-25T15:13:37.778160Z",
     "start_time": "2023-07-25T15:13:37.769354Z"
    }
   },
   "outputs": [],
   "source": [
    "from numpy import sqrt, exp, cumsum, sum, maximum, mean\n",
    "from numpy.random import standard_normal\n",
    "import numpy as np\n",
    "from scipy.stats import norm, qmc\n",
    "\n",
    "# Parameters\n",
    "S0 = 100; T = 0.5; K = 110; r = 0.05; sigma = 0.5\n",
    "M = 1000; dt = T / M; I = 10000 ; B=75\n",
    "payoff=np.zeros(I)"
   ]
  },
  {
   "cell_type": "code",
   "execution_count": 129,
   "id": "8a6bc058",
   "metadata": {
    "ExecuteTime": {
     "end_time": "2023-07-25T15:13:38.869772Z",
     "start_time": "2023-07-25T15:13:37.979981Z"
    },
    "scrolled": true
   },
   "outputs": [
    {
     "name": "stdout",
     "output_type": "stream",
     "text": [
      "Estimated present value is 10.961759\n",
      "Estimated volatility is 23.792350\n",
      "Estimated  is 10.772927 11.705587463527088\n"
     ]
    }
   ],
   "source": [
    "# Simulate I paths with M time steps\n",
    "S = S0 * exp(cumsum((r - 0.5 * sigma ** 2) * dt + sigma * sqrt(dt) * \n",
    "                          standard_normal((M, I)), axis=0 ))\n",
    "for i in range(I):\n",
    "    if min(S[:,i])<=B :\n",
    "        payoff[i]=0 \n",
    "    else :\n",
    "        payoff[i]=max(S[-1:,i]-K,0) \n",
    "    \n",
    "# Calculate the Monte Carlo estimator\n",
    "C0 = exp(-r * T) * mean(payoff)\n",
    "vol=sqrt(sum((payoff-mean(payoff))**2)/(I-1))\n",
    "v_down=mean(payoff)-1.96*vol/sqrt(I)\n",
    "v_up=mean(payoff)+1.96*vol/sqrt(I)\n",
    "print(\"Estimated present value is %f\" % C0)\n",
    "print(\"Estimated volatility is %f\" % vol)\n",
    "print(\"Estimated  is %f\" % v_down,v_up)"
   ]
  },
  {
   "cell_type": "code",
   "execution_count": 130,
   "id": "78f4dc0d",
   "metadata": {
    "ExecuteTime": {
     "end_time": "2023-07-25T15:14:23.112359Z",
     "start_time": "2023-07-25T15:14:23.098305Z"
    }
   },
   "outputs": [],
   "source": [
    "\n",
    "def quasi_MC_DO_call_option_price(S, K, r, sigma, T, n, m, B):\n",
    "    np.random.seed(0)  # 设置随机种子以保持结果的一致性\n",
    "    dt = T / m  # 时间步长\n",
    "    # 生成 Sobol 序列\n",
    "    sobol = np.random.default_rng().random((n, m))\n",
    "    sobol = np.column_stack((sobol, 1 - sobol))  # 使用维度扩展 Sobol 序列\n",
    "\n",
    "    paths = np.zeros((n, m + 1))\n",
    "    paths[:, 0] = S\n",
    "    payoff = np.zeros(n)\n",
    "    for i in range(1, m + 1):\n",
    "        z = norm.ppf(sobol[:, i - 1])\n",
    "        paths[:, i] = paths[:, i - 1] * np.exp((r - 0.5 * sigma**2) * dt + sigma * np.sqrt(dt) * z)\n",
    "    for j in range(n):\n",
    "        if min(paths[j]<=B):\n",
    "            payoff[j]=0 \n",
    "        else:\n",
    "            payoff[j]=max(paths[j,-1]-K,0) \n",
    "    return exp(-r * T) * mean(payoff)\n"
   ]
  },
  {
   "cell_type": "code",
   "execution_count": 132,
   "id": "82bd9d29",
   "metadata": {
    "ExecuteTime": {
     "end_time": "2023-07-25T15:14:35.704533Z",
     "start_time": "2023-07-25T15:14:35.680940Z"
    }
   },
   "outputs": [],
   "source": [
    "# Parameters\n",
    "S0 = 100; T = 0.5; K = 110; r = 0.05; sigma = 0.5\n",
    "M=1000; dt = T / M; N = 10000 ; B=75\n",
    "# payoff=np.zeros(I)"
   ]
  },
  {
   "cell_type": "code",
   "execution_count": 133,
   "id": "3526a9f1",
   "metadata": {
    "ExecuteTime": {
     "end_time": "2023-07-25T15:14:44.267016Z",
     "start_time": "2023-07-25T15:14:36.189956Z"
    }
   },
   "outputs": [
    {
     "name": "stdout",
     "output_type": "stream",
     "text": [
      "11.538516748452595\n"
     ]
    }
   ],
   "source": [
    "# paths[-1,0]\n",
    "print(quasi_MC_DO_call_option_price(S0,K,r,sigma,T,N,M,B))"
   ]
  },
  {
   "cell_type": "markdown",
   "id": "75a43eb3",
   "metadata": {},
   "source": [
    "## UP and Out Option"
   ]
  },
  {
   "cell_type": "code",
   "execution_count": null,
   "id": "d0f2b9b7",
   "metadata": {},
   "outputs": [],
   "source": []
  },
  {
   "cell_type": "code",
   "execution_count": 23,
   "id": "003278ce",
   "metadata": {
    "ExecuteTime": {
     "end_time": "2023-07-25T13:47:29.514885Z",
     "start_time": "2023-07-25T13:47:29.503064Z"
    }
   },
   "outputs": [],
   "source": [
    "from numpy import sqrt, exp, cumsum, sum, maximum, mean\n",
    "from numpy.random import standard_normal\n",
    "import numpy as np\n",
    "\n",
    "# Parameters\n",
    "S0 = 50; T = 0.5; K = 60; r = 0.05; sigma = 0.45\n",
    "M = 252; dt = T / M; I = 100000 ; B=80\n",
    "payoff=np.zeros(I)\n"
   ]
  },
  {
   "cell_type": "code",
   "execution_count": 24,
   "id": "c3831767",
   "metadata": {
    "ExecuteTime": {
     "end_time": "2023-07-25T13:47:32.377694Z",
     "start_time": "2023-07-25T13:47:29.728336Z"
    }
   },
   "outputs": [
    {
     "name": "stdout",
     "output_type": "stream",
     "text": [
      "Estimated present value is 0.948587\n"
     ]
    }
   ],
   "source": [
    "# Simulate I paths with M time steps\n",
    "S = S0 * exp(cumsum((r - 0.5 * sigma ** 2) * dt + sigma * sqrt(dt) * \n",
    "                          standard_normal((M, I)), axis=0 ))\n",
    "for i in range(I):\n",
    "    if max(S[:,i])>=B :\n",
    "        payoff[i]=0 \n",
    "    else :\n",
    "        payoff[i]=max(S[-1:,i]-K,0) \n",
    "    \n",
    "# Calculate the Monte Carlo estimator\n",
    "C0 = exp(-r * T) * mean(payoff)\n",
    "print(\"Estimated present value is %f\" % C0)"
   ]
  },
  {
   "cell_type": "markdown",
   "id": "3eae74e9",
   "metadata": {},
   "source": [
    "## Up and In Option"
   ]
  },
  {
   "cell_type": "code",
   "execution_count": 25,
   "id": "119c04d2",
   "metadata": {
    "ExecuteTime": {
     "end_time": "2023-07-25T14:00:27.993829Z",
     "start_time": "2023-07-25T14:00:27.980209Z"
    }
   },
   "outputs": [],
   "source": [
    "from numpy import sqrt, exp, cumsum, sum, maximum, mean\n",
    "from numpy.random import standard_normal\n",
    "import numpy as np\n",
    "\n",
    "# Parameters\n",
    "S0 = 50; T = 0.5; K = 60; r = 0.05; sigma = 0.45\n",
    "M = 252; dt = T / M; I = 100000 ; B=80\n",
    "payoff=np.zeros(I)\n"
   ]
  },
  {
   "cell_type": "code",
   "execution_count": 26,
   "id": "fbb0aeae",
   "metadata": {
    "ExecuteTime": {
     "end_time": "2023-07-25T14:00:31.043069Z",
     "start_time": "2023-07-25T14:00:28.386350Z"
    }
   },
   "outputs": [
    {
     "name": "stdout",
     "output_type": "stream",
     "text": [
      "Estimated present value is 3.413675\n"
     ]
    }
   ],
   "source": [
    "# Simulate I paths with M time steps\n",
    "S = S0 * exp(cumsum((r - 0.5 * sigma ** 2) * dt + sigma * sqrt(dt) * \n",
    "                          standard_normal((M, I)), axis=0 ))\n",
    "for i in range(I):\n",
    "    if max(S[:,i])<B :\n",
    "        payoff[i]=0 \n",
    "    else :\n",
    "        payoff[i]=max(S[-1:,i]-K,0) \n",
    "    \n",
    "# Calculate the Monte Carlo estimator\n",
    "C0 = exp(-r * T) * mean(payoff)\n",
    "print(\"Estimated present value is %f\" % C0)"
   ]
  },
  {
   "cell_type": "code",
   "execution_count": 33,
   "id": "ba3e47eb",
   "metadata": {
    "ExecuteTime": {
     "end_time": "2023-07-25T14:09:16.108281Z",
     "start_time": "2023-07-25T14:09:16.077334Z"
    }
   },
   "outputs": [
    {
     "name": "stdout",
     "output_type": "stream",
     "text": [
      "245.33258467955156\n",
      "206.92297306710387\n"
     ]
    }
   ],
   "source": [
    "def sim_value(S,sig,r,T):\n",
    "    e = np.random.normal()\n",
    "    return S*np.exp((r-0.5*sig**2)*T+sig*e*np.sqrt(T))\n",
    "def callpayoff(S_T,K):\n",
    "    return np.exp(-r*T)*max(S_T-K,0)\n",
    "S = 200\n",
    "B = 175\n",
    "K = 150\n",
    "r = 0.05\n",
    "sig = 0.2\n",
    "T = 0.5\n",
    "MM = 1000\n",
    "R = 18.8103\n",
    "N = 100.\n",
    "vi = []\n",
    "for i in range(2):\n",
    "    S_T = sim_value(S,sig,r,T)\n",
    "    print(S_T)\n",
    "#     if vi <= B and S==B:\n",
    "#         S_T == 0\n",
    "#     else:\n",
    "#         vi.append(callpayoff(S_T,K))\n",
    "# price = 1/float(MM)*sum(vi)\n",
    "# Variance = 1/float(MM-1)*sum((vi-price)**2)\n",
    "# SE=np.sqrt(Variance/float(MM))"
   ]
  },
  {
   "cell_type": "markdown",
   "id": "e5b83ed3",
   "metadata": {},
   "source": [
    "# Fixed Strike Lookback Option"
   ]
  },
  {
   "cell_type": "code",
   "execution_count": 17,
   "id": "f6289ecc",
   "metadata": {
    "ExecuteTime": {
     "end_time": "2023-08-11T13:39:30.072228Z",
     "start_time": "2023-08-11T13:39:30.052263Z"
    }
   },
   "outputs": [],
   "source": [
    "from numpy import sqrt, exp, cumsum, sum, maximum, mean\n",
    "from numpy.random import standard_normal\n",
    "import numpy as np\n",
    "\n",
    "# Parameters\n",
    "S0 = 110; T = 1; K = 110; r = 0.35; sigma = 0.5\n",
    "M = 10;dt =T/M; I = [10,100,1000,10000,100000]\n"
   ]
  },
  {
   "cell_type": "code",
   "execution_count": 6,
   "id": "a74945b4",
   "metadata": {
    "ExecuteTime": {
     "end_time": "2023-08-11T13:36:12.932297Z",
     "start_time": "2023-08-11T13:36:12.503456Z"
    }
   },
   "outputs": [
    {
     "name": "stdout",
     "output_type": "stream",
     "text": [
      "Estimated present value is 8.721825\n",
      "Estimated present value is 8.030171\n",
      "Estimated present value is 8.331775\n",
      "Estimated present value is 8.065519\n",
      "Estimated present value is 8.051688\n"
     ]
    }
   ],
   "source": [
    "for m in range(5):\n",
    "    payoff=np.zeros(I[m])\n",
    "    # Simulate I paths with M time steps\n",
    "    S = S0 * exp(\n",
    "        cumsum((r - 0.5 * sigma**2) * dt + sigma * sqrt(dt) * standard_normal(\n",
    "            (M, I[m])),\n",
    "               axis=0))\n",
    "    for i in range(I[m]):\n",
    "        payoff[i] = max(max(S[:, i]) - K, 0)\n",
    "\n",
    "    # Calculate the Monte Carlo estimator\n",
    "    C0 = exp(-r * T) * mean(payoff)\n",
    "#     print(\"Estimated present value is %f\" % C0)\n",
    "    payoff = np.zeros(I[m])\n",
    "    for i in range(I[m]):\n",
    "        payoff[i] = max(K-min(S[:, i]) , 0)\n",
    "    # Calculate the Monte Carlo estimator\n",
    "    P0 = exp(-r * T) * mean(payoff)\n",
    "    print(\"Estimated present value is %f\" % P0)"
   ]
  },
  {
   "cell_type": "code",
   "execution_count": 7,
   "id": "5ffc6211",
   "metadata": {
    "ExecuteTime": {
     "end_time": "2023-08-11T13:36:13.825971Z",
     "start_time": "2023-08-11T13:36:13.807912Z"
    }
   },
   "outputs": [],
   "source": [
    "\n",
    "def quasi_MC_Fixed_Lookback_call_option_price(S, K, r, sigma, T, n, m):\n",
    "    np.random.seed(0)  # 设置随机种子以保持结果的一致性\n",
    "    dt = T / m  # 时间步长\n",
    "    # 生成 Sobol 序列\n",
    "    sobol = np.random.default_rng().random((n, m))\n",
    "    sobol = np.column_stack((sobol, 1 - sobol))  # 使用维度扩展 Sobol 序列\n",
    "\n",
    "    paths = np.zeros((n, m + 1))\n",
    "    paths[:, 0] = S\n",
    "    payoff = np.zeros(n)\n",
    "    for i in range(1, m + 1):\n",
    "        z = norm.ppf(sobol[:, i - 1])\n",
    "        paths[:, i] = paths[:, i - 1] * np.exp((r - 0.5 * sigma**2) * dt + sigma * np.sqrt(dt) * z)\n",
    "    for j in range(n):\n",
    "        payoff[j]=max(max(paths[j])-K,0) \n",
    "    return exp(-r * T) * mean(payoff)\n",
    "def quasi_MC_Fixed_Lookback_put_option_price(S, K, r, sigma, T, n, m):\n",
    "    np.random.seed(0)  # 设置随机种子以保持结果的一致性\n",
    "    dt = T / m  # 时间步长\n",
    "    # 生成 Sobol 序列\n",
    "    sobol = np.random.default_rng().random((n, m))\n",
    "    sobol = np.column_stack((sobol, 1 - sobol))  # 使用维度扩展 Sobol 序列\n",
    "\n",
    "    paths = np.zeros((n, m + 1))\n",
    "    paths[:, 0] = S\n",
    "    payoff = np.zeros(n)\n",
    "    for i in range(1, m + 1):\n",
    "        z = norm.ppf(sobol[:, i - 1])\n",
    "        paths[:, i] = paths[:, i - 1] * np.exp((r - 0.5 * sigma**2) * dt + sigma * np.sqrt(dt) * z)\n",
    "    for j in range(n):\n",
    "        payoff[j]=max(K-min(paths[j]),0) \n",
    "    return exp(-r * T) * mean(payoff)"
   ]
  },
  {
   "cell_type": "code",
   "execution_count": 8,
   "id": "0f344b99",
   "metadata": {
    "ExecuteTime": {
     "end_time": "2023-08-11T13:36:15.316283Z",
     "start_time": "2023-08-11T13:36:14.844653Z"
    },
    "scrolled": true
   },
   "outputs": [
    {
     "name": "stdout",
     "output_type": "stream",
     "text": [
      "21.04127120993026 10.687317836660165\n",
      "24.73737251621416 9.68219405442841\n",
      "21.97358259180262 10.090405908615352\n",
      "22.062366254850456 9.987651836731663\n",
      "22.10853175327704 9.998224954086705\n"
     ]
    }
   ],
   "source": [
    "for m in range(5):\n",
    "    call_price = quasi_MC_Fixed_Lookback_call_option_price(S0, K, r, sigma, T, I[m], M)\n",
    "    put_price=quasi_MC_Fixed_Lookback_put_option_price(S0, K, r, sigma, T, I[m], M)\n",
    "    print(call_price,put_price)"
   ]
  },
  {
   "cell_type": "code",
   "execution_count": 14,
   "id": "c69340ce",
   "metadata": {
    "ExecuteTime": {
     "end_time": "2023-08-11T13:37:50.086112Z",
     "start_time": "2023-08-11T13:37:50.055580Z"
    }
   },
   "outputs": [],
   "source": [
    "import math\n",
    "from scipy.stats import norm\n",
    "\n",
    "def fixed_strike_lookback_option(S, K, r, sigma, T, S_max):\n",
    "    d1 = (math.log(S/K) + (r + (sigma**2)/2)*T) / (sigma * math.sqrt(T))\n",
    "    d2 = d1 - sigma * math.sqrt(T)\n",
    "    d3 = d1 - (2 * r * math.sqrt(T)) / sigma\n",
    "    e1 = (math.log(S/S_max) + (r + (sigma**2)/2)*T) / (sigma * math.sqrt(T))\n",
    "    e2 = e1 - sigma * math.sqrt(T)\n",
    "    e3 = e1 - (2 * r * math.sqrt(T)) / sigma\n",
    "\n",
    "    if S_max <= K:\n",
    "        term1 = S * norm.cdf(d1) - math.exp(-r * T) * K * norm.cdf(d2)\n",
    "        term2 = math.exp(-r * T) * (sigma**2 / (2 * r)) * S * (math.exp(r * T) * norm.cdf(d1) - ((S / K)**(-2 * r / (sigma**2))) * norm.cdf(d3))\n",
    "        option_price = term1 + term2\n",
    "    else:\n",
    "        term1 = math.exp(-r * T) * (S_max * (1 - norm.cdf(d2)) - K)\n",
    "        term2 = math.exp(-r * T) * S * (sigma**2 / (2 * r)) * (math.exp(r * T) * norm.cdf(d1) - ((S / S_max)**(-2 * r / (sigma**2))) * norm.cdf(d3))\n",
    "        option_price = term1 + term2\n",
    "\n",
    "    return option_price\n",
    "def fixed_strike_lookback_option_put(S, K, r, sigma, T, S_min):\n",
    "    d1 = (math.log(S/K) + (r + (sigma**2)/2)*T) / (sigma * math.sqrt(T))\n",
    "    d2 = d1 - sigma * math.sqrt(T)\n",
    "    d3 = d1 - (2 * r * math.sqrt(T)) / sigma\n",
    "    f1 = (math.log(S/S_min) + (r + (sigma**2)/2)*T) / (sigma * math.sqrt(T))\n",
    "    f2 = f1 - sigma * math.sqrt(T)\n",
    "    f3 = f1 - (2 * r * math.sqrt(T)) / sigma\n",
    "\n",
    "    if K <= S_min:\n",
    "        term1 = K * math.exp(-r * T) * norm.cdf(-d2) - S * norm.cdf(-d1)\n",
    "        term2 = math.exp(-r * T) * (sigma**2 / (2 * r)) * S * (-math.exp(r * T) * norm.cdf(-d1) + ((S / K)**(-2 * r / (sigma**2))) * norm.cdf(-d3))\n",
    "        option_price = term1 + term2\n",
    "    else:\n",
    "        term1 = math.exp(-r * T) * (S_min * (norm.cdf(-f2) - 1) + K) - S * norm.cdf(-f1)\n",
    "        term2 = math.exp(-r * T) * S * (sigma**2 / (2 * r)) * (-math.exp(r * T) * norm.cdf(-f1) + ((S / S_min)**(-2 * r / (sigma**2))) * norm.cdf(-f3))\n",
    "        option_price = term1 + term2\n",
    "\n",
    "    return option_price"
   ]
  },
  {
   "cell_type": "code",
   "execution_count": 18,
   "id": "77f433c7",
   "metadata": {
    "ExecuteTime": {
     "end_time": "2023-08-11T13:39:37.410979Z",
     "start_time": "2023-08-11T13:39:37.395884Z"
    }
   },
   "outputs": [
    {
     "name": "stdout",
     "output_type": "stream",
     "text": [
      "62.49656344538103 18.410713981960384\n"
     ]
    }
   ],
   "source": [
    "# for m in range(3):\n",
    "a=fixed_strike_lookback_option(S0,K,r,sigma,T,K)\n",
    "# fixed_strike_lookback_option_put(100,100,0.2,0.4,0.25,100) \n",
    "b=fixed_strike_lookback_option_put(S0,K,r,sigma,T,S0)\n",
    "print(a,b)"
   ]
  },
  {
   "cell_type": "markdown",
   "id": "c7ba0092",
   "metadata": {
    "ExecuteTime": {
     "end_time": "2023-07-18T18:18:28.600292Z",
     "start_time": "2023-07-18T18:18:28.581083Z"
    }
   },
   "source": [
    "# Floating Strike Lookback Option"
   ]
  },
  {
   "cell_type": "code",
   "execution_count": 362,
   "id": "2294c813",
   "metadata": {
    "ExecuteTime": {
     "end_time": "2023-07-22T16:57:59.268706Z",
     "start_time": "2023-07-22T16:57:59.259054Z"
    }
   },
   "outputs": [],
   "source": [
    "from numpy import sqrt, exp, cumsum, sum, maximum, mean\n",
    "from numpy.random import standard_normal\n",
    "import numpy as np\n",
    "\n",
    "# Parameters\n",
    "S0 = 100; T = 0.5; K = 110; r = 0.2; sigma = 0.4\n",
    "M = 1000; dt = T / M; I = 1000 \n",
    "payoff=np.zeros(I)\n",
    "smin=np.zeros(I)\n",
    "smax=np.zeros(I) "
   ]
  },
  {
   "cell_type": "code",
   "execution_count": 176,
   "id": "d1b08163",
   "metadata": {
    "ExecuteTime": {
     "end_time": "2023-07-19T16:11:10.527731Z",
     "start_time": "2023-07-19T16:11:10.116456Z"
    }
   },
   "outputs": [
    {
     "name": "stdout",
     "output_type": "stream",
     "text": [
      "Estimated present value is 16.676908\n",
      "Estimated present value is 14.031043\n"
     ]
    }
   ],
   "source": [
    "# Simulate I paths with M time steps\n",
    "S = S0 * exp(\n",
    "    cumsum((r - 0.5 * sigma**2) * dt + sigma * sqrt(dt) * standard_normal(\n",
    "        (M, I)),\n",
    "           axis=0)) \n",
    "\n",
    "for i in range(I):\n",
    "    payoff[i] = max(S[-1:,i]-min(S[:, i]) , 0)\n",
    "    smin[i]=min(S[:, i])\n",
    "    smax[i]=max(S[:, i])\n",
    "MAX=mean(smax)\n",
    "MIN=mean(smin)\n",
    "# Calculate the Monte Carlo estimator\n",
    "C0 = exp(-r * T) * mean(payoff)\n",
    "print(\"Estimated present value is %f\" % C0)\n",
    "for i in range(I):\n",
    "    payoff[i] = max(max(S[:, i])-S[-1:,i] , 0)\n",
    "# Calculate the Monte Carlo estimator\n",
    "P0 = exp(-r * T) * mean(payoff)\n",
    "print(\"Estimated present value is %f\" % P0)\n"
   ]
  },
  {
   "cell_type": "code",
   "execution_count": 177,
   "id": "4b3e0906",
   "metadata": {
    "ExecuteTime": {
     "end_time": "2023-07-19T16:11:16.240939Z",
     "start_time": "2023-07-19T16:11:16.226891Z"
    }
   },
   "outputs": [],
   "source": [
    "import numpy as np\n",
    "from scipy.stats import norm\n",
    "\n",
    "def quasi_MC_Floating_Lookback_call_option_price(S, K, r, sigma, T, n, m):\n",
    "    np.random.seed(0)  # 设置随机种子以保持结果的一致性\n",
    "    dt = T / m  # 时间步长\n",
    "    # 生成 Sobol 序列\n",
    "    sobol = np.random.default_rng().random((n, m))\n",
    "    sobol = np.column_stack((sobol, 1 - sobol))  # 使用维度扩展 Sobol 序列\n",
    "\n",
    "    paths = np.zeros((n, m + 1))\n",
    "    paths[:, 0] = S\n",
    "    payoff = np.zeros(n)\n",
    "    for i in range(1, m + 1):\n",
    "        z = norm.ppf(sobol[:, i - 1])\n",
    "        paths[:, i] = paths[:, i - 1] * np.exp((r - 0.5 * sigma**2) * dt + sigma * np.sqrt(dt) * z)\n",
    "    for j in range(n):\n",
    "        payoff[j]=max(paths[j,-1]-min(paths[j]),0) \n",
    "    return exp(-r * T) * mean(payoff)\n",
    "\n",
    "def quasi_MC_Floating_Lookback_put_option_price(S, K, r, sigma, T, n, m):\n",
    "    np.random.seed(0)  # 设置随机种子以保持结果的一致性\n",
    "    dt = T / m  # 时间步长\n",
    "    # 生成 Sobol 序列\n",
    "    sobol = np.random.default_rng().random((n, m))\n",
    "    sobol = np.column_stack((sobol, 1 - sobol))  # 使用维度扩展 Sobol 序列\n",
    "\n",
    "    paths = np.zeros((n, m + 1))\n",
    "    paths[:, 0] = S\n",
    "    payoff = np.zeros(n)\n",
    "    for i in range(1, m + 1):\n",
    "        z = norm.ppf(sobol[:, i - 1])\n",
    "        paths[:, i] = paths[:, i - 1] * np.exp((r - 0.5 * sigma**2) * dt + sigma * np.sqrt(dt) * z)\n",
    "    for j in range(n):\n",
    "        payoff[j]=max(max(paths[j])-paths[j,-1],0) \n",
    "    return exp(-r * T) * mean(payoff)"
   ]
  },
  {
   "cell_type": "code",
   "execution_count": 180,
   "id": "5f4a3873",
   "metadata": {
    "ExecuteTime": {
     "end_time": "2023-07-19T16:11:26.393495Z",
     "start_time": "2023-07-19T16:11:25.886033Z"
    }
   },
   "outputs": [
    {
     "name": "stdout",
     "output_type": "stream",
     "text": [
      "16.90196151612262 14.08795839697109\n"
     ]
    }
   ],
   "source": [
    "call_price = quasi_MC_Floating_Lookback_call_option_price(S0, K, r, sigma, T, I, M)\n",
    "\n",
    "put_price=quasi_MC_Floating_Lookback_put_option_price(S0, K, r, sigma, T, I, M)\n",
    "\n",
    "print(call_price,put_price)\n"
   ]
  },
  {
   "cell_type": "code",
   "execution_count": 360,
   "id": "c12ac980",
   "metadata": {
    "ExecuteTime": {
     "end_time": "2023-07-22T16:57:46.397330Z",
     "start_time": "2023-07-22T16:57:46.375241Z"
    }
   },
   "outputs": [],
   "source": [
    "import math\n",
    "\n",
    "def calculate_floating_call_option_price(S, r, sigma, tau,S_min):\n",
    "    d1 = (math.log(S / S_min) + (r + 0.5 * sigma**2) * tau) / (sigma * math.sqrt(tau))\n",
    "    d2 = d1 - sigma * math.sqrt(tau)\n",
    "    d3 = d1 - (2 * r / sigma) * math.sqrt(tau)\n",
    "\n",
    "    N = lambda x: 0.5 * (1 + math.erf(x / math.sqrt(2)))\n",
    "\n",
    "    option_price = S * N(d1) - S_min * math.exp(-r * tau) * N(d2) + math.exp(-r * tau) * (sigma**2 / (2 * r)) * S * ((S / S_min)**(-2 * r / sigma**2) * N(-d3) - math.exp(r * tau) * N(-d1))\n",
    "    return option_price\n",
    "def calculate_floating_put_option_price(S, r, sigma, tau, S_max):\n",
    "    d1 = (math.log(S/S_max) + (r + (sigma**2)/2)*tau) / (sigma*math.sqrt(tau))\n",
    "    d2 = d1 - sigma*math.sqrt(tau)\n",
    "    d3 = d1 - (2*r/(sigma))*math.sqrt(tau)\n",
    "\n",
    "    term1 = -S * norm.cdf(-d1)\n",
    "    term2 = S_max * math.exp(-r*tau) * norm.cdf(-d2)\n",
    "    term3 = math.exp(-r*tau) * (sigma**2) / (2*r) * S * (-((S/S_max)**(-2*r/(sigma**2))) * norm.cdf(d3) + math.exp(r*tau) * norm.cdf(d1))\n",
    "\n",
    "    P_Floating = term1 + term2 + term3\n",
    "    return P_Floating\n"
   ]
  },
  {
   "cell_type": "code",
   "execution_count": 363,
   "id": "44327da5",
   "metadata": {
    "ExecuteTime": {
     "end_time": "2023-07-22T16:58:02.444965Z",
     "start_time": "2023-07-22T16:58:02.437560Z"
    }
   },
   "outputs": [
    {
     "name": "stdout",
     "output_type": "stream",
     "text": [
      "24.8513499774796 19.141595059637154\n"
     ]
    }
   ],
   "source": [
    "c=calculate_floating_call_option_price(S0,r,sigma,T,S0) \n",
    "p=calculate_floating_put_option_price(S0,r,sigma,T,S0) \n",
    "print(c,p)"
   ]
  },
  {
   "cell_type": "code",
   "execution_count": null,
   "id": "deb1dc65",
   "metadata": {},
   "outputs": [],
   "source": []
  }
 ],
 "metadata": {
  "kernelspec": {
   "display_name": "Python 3 (ipykernel)",
   "language": "python",
   "name": "python3"
  },
  "language_info": {
   "codemirror_mode": {
    "name": "ipython",
    "version": 3
   },
   "file_extension": ".py",
   "mimetype": "text/x-python",
   "name": "python",
   "nbconvert_exporter": "python",
   "pygments_lexer": "ipython3",
   "version": "3.9.12"
  },
  "toc": {
   "base_numbering": 1,
   "nav_menu": {},
   "number_sections": true,
   "sideBar": true,
   "skip_h1_title": false,
   "title_cell": "Table of Contents",
   "title_sidebar": "Contents",
   "toc_cell": false,
   "toc_position": {},
   "toc_section_display": true,
   "toc_window_display": false
  },
  "varInspector": {
   "cols": {
    "lenName": 16,
    "lenType": 16,
    "lenVar": 40
   },
   "kernels_config": {
    "python": {
     "delete_cmd_postfix": "",
     "delete_cmd_prefix": "del ",
     "library": "var_list.py",
     "varRefreshCmd": "print(var_dic_list())"
    },
    "r": {
     "delete_cmd_postfix": ") ",
     "delete_cmd_prefix": "rm(",
     "library": "var_list.r",
     "varRefreshCmd": "cat(var_dic_list()) "
    }
   },
   "types_to_exclude": [
    "module",
    "function",
    "builtin_function_or_method",
    "instance",
    "_Feature"
   ],
   "window_display": false
  }
 },
 "nbformat": 4,
 "nbformat_minor": 5
}
